{
 "cells": [
  {
   "cell_type": "code",
   "execution_count": 2,
   "id": "cbe40d33-c2a5-4fbb-b99b-3a97bafdf630",
   "metadata": {},
   "outputs": [
    {
     "name": "stdout",
     "output_type": "stream",
     "text": [
      "25\n"
     ]
    }
   ],
   "source": [
    "print(25)"
   ]
  },
  {
   "cell_type": "code",
   "execution_count": 3,
   "id": "209d2d61-48d7-4d8c-b2b5-d4809ffdbe4a",
   "metadata": {},
   "outputs": [],
   "source": [
    "a = 25"
   ]
  },
  {
   "cell_type": "code",
   "execution_count": 4,
   "id": "40bb4c9c-921f-4f8a-b886-b0439aa32eeb",
   "metadata": {},
   "outputs": [
    {
     "data": {
      "text/plain": [
       "30"
      ]
     },
     "execution_count": 4,
     "metadata": {},
     "output_type": "execute_result"
    }
   ],
   "source": [
    "a + 5"
   ]
  },
  {
   "cell_type": "code",
   "execution_count": 9,
   "id": "584e2f51-43dd-44b9-b0a5-2fdf416ae209",
   "metadata": {},
   "outputs": [
    {
     "data": {
      "text/plain": [
       "256"
      ]
     },
     "execution_count": 9,
     "metadata": {},
     "output_type": "execute_result"
    }
   ],
   "source": [
    "2**8"
   ]
  },
  {
   "cell_type": "code",
   "execution_count": 11,
   "id": "d5f44525-363c-4e73-a2bc-28762d59f869",
   "metadata": {},
   "outputs": [
    {
     "data": {
      "text/plain": [
       "64"
      ]
     },
     "execution_count": 11,
     "metadata": {},
     "output_type": "execute_result"
    }
   ],
   "source": [
    "12 + 52"
   ]
  },
  {
   "cell_type": "markdown",
   "id": "99754900-4c96-42fe-9155-46b16709174d",
   "metadata": {},
   "source": [
    "This is some text."
   ]
  },
  {
   "cell_type": "markdown",
   "id": "ba511a04-3392-46ba-a7b8-d23adc925267",
   "metadata": {},
   "source": [
    "$$ 2x + 3y = 52 $$"
   ]
  },
  {
   "cell_type": "markdown",
   "id": "3d75aa79-f16a-40eb-ab82-b8c78373b9aa",
   "metadata": {},
   "source": [
    "$$\n",
    "F(\\omega) = \\int_{-\\infty}^{\\infty} f(t) e^{-i \\omega t} \\, dt\n",
    "$$"
   ]
  },
  {
   "cell_type": "code",
   "execution_count": null,
   "id": "867239ed-5bac-438d-942b-76a363e5b108",
   "metadata": {},
   "outputs": [],
   "source": []
  }
 ],
 "metadata": {
  "kernelspec": {
   "display_name": "Python [conda env:base] *",
   "language": "python",
   "name": "conda-base-py"
  },
  "language_info": {
   "codemirror_mode": {
    "name": "ipython",
    "version": 3
   },
   "file_extension": ".py",
   "mimetype": "text/x-python",
   "name": "python",
   "nbconvert_exporter": "python",
   "pygments_lexer": "ipython3",
   "version": "3.12.7"
  }
 },
 "nbformat": 4,
 "nbformat_minor": 5
}
